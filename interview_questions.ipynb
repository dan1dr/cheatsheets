{
 "cells": [
  {
   "cell_type": "markdown",
   "metadata": {},
   "source": [
    "## Bread-first search"
   ]
  },
  {
   "cell_type": "markdown",
   "metadata": {},
   "source": [
    "BDS is an algorithm used for tree traversal on graphs or tree data structures. It can be easily implemented using recursion an data structures like dictionaries and lists."
   ]
  },
  {
   "cell_type": "markdown",
   "metadata": {},
   "source": [
    "1. Pick any node, visit the adjacent unvisisted vertex, mark it as visited, display it, and insert it in a queue\n",
    "2. If there are no remaining left, remove the first vertex from the queue\n",
    "3. Repeat 1 and 2 until the queue is empty or the desire node not found\n",
    "\n",
    "Consider the following graph"
   ]
  },
  {
   "cell_type": "markdown",
   "metadata": {},
   "source": [
    "![texte](https://www.codeproject.com/KB/java/BFSDFS/graph.PNG)\n"
   ]
  },
  {
   "cell_type": "code",
   "execution_count": 30,
   "metadata": {},
   "outputs": [],
   "source": [
    "graph = {\n",
    "    'A' : ['B', 'C', 'D'],\n",
    "    'B' : ['E', 'F'],\n",
    "    'C' : ['F'],\n",
    "    'D' : [],\n",
    "    'E' : [],\n",
    "    'F' : []\n",
    "        }\n",
    "\n",
    "visited = [] #keep track of visited nodes\n",
    "queue = [] #initialize queue"
   ]
  },
  {
   "cell_type": "code",
   "execution_count": 31,
   "metadata": {},
   "outputs": [],
   "source": [
    "def bfs(visited, graph, node):\n",
    "    visited.append(node)\n",
    "    queue.append(node)\n",
    "    \n",
    "    while queue:\n",
    "        s = queue.pop(0)\n",
    "        print(s, end = \" \")\n",
    "        \n",
    "        for neighbour in graph[s]:\n",
    "            if neighbour not in visited:\n",
    "                visited.append(neighbour)\n",
    "                queue.append(neighbour)"
   ]
  },
  {
   "cell_type": "code",
   "execution_count": 34,
   "metadata": {},
   "outputs": [
    {
     "name": "stdout",
     "output_type": "stream",
     "text": [
      "A "
     ]
    }
   ],
   "source": [
    "bfs(visited, graph, 'A')"
   ]
  },
  {
   "cell_type": "markdown",
   "metadata": {},
   "source": [
    "Time complexitiy is O(number of vertices + number of edges)"
   ]
  },
  {
   "cell_type": "markdown",
   "metadata": {},
   "source": [
    "__Given an array of integers and a value, determine if there are any two integers in the array whose sum is equal to the given value. Return true if the sum exists and return false if it does not.__\n",
    "\n",
    "__Consider this array and the target sums:__"
   ]
  },
  {
   "cell_type": "markdown",
   "metadata": {},
   "source": [
    "![](https://www.educative.io/cdn-cgi/image/f=auto,fit=contain,w=2400/api/page/6301758562238464/image/download/4742980847009792)"
   ]
  },
  {
   "cell_type": "code",
   "execution_count": 78,
   "metadata": {},
   "outputs": [],
   "source": [
    "def find_sum_of_two(A, value):\n",
    "    found_values = set()\n",
    "    for i in A: #scan the array\n",
    "        if value - i in found_values:\n",
    "            return True #then there is a pair\n",
    "        found_values.add(i) #store every visited element\n",
    "        \n",
    "    return False"
   ]
  },
  {
   "cell_type": "code",
   "execution_count": 79,
   "metadata": {},
   "outputs": [],
   "source": [
    "v = [5, 7, 1, 2, 8, 4, 3]\n",
    "test = [3, 20, 1, 2, 7]"
   ]
  },
  {
   "cell_type": "code",
   "execution_count": 84,
   "metadata": {},
   "outputs": [
    {
     "data": {
      "text/plain": [
       "True"
      ]
     },
     "execution_count": 84,
     "metadata": {},
     "output_type": "execute_result"
    }
   ],
   "source": [
    "find_sum_of_two(v,7)"
   ]
  },
  {
   "cell_type": "markdown",
   "metadata": {},
   "source": [
    "__Given an integer array, move all elements that are 0 to the left while maintaining the order of other elements in the array. The array has to be modified in-place.__\n",
    "\n",
    "Let’s look at the following integer array:"
   ]
  },
  {
   "cell_type": "markdown",
   "metadata": {},
   "source": [
    "![](https://www.educative.io/cdn-cgi/image/f=auto,fit=contain,w=2400/api/page/5453650429214720/image/download/6086215225835520)"
   ]
  },
  {
   "cell_type": "markdown",
   "metadata": {},
   "source": [
    "After moving all zeros to the left, the array should like this"
   ]
  },
  {
   "cell_type": "markdown",
   "metadata": {},
   "source": [
    "![](https://www.educative.io/cdn-cgi/image/f=auto,fit=contain,w=2400/api/page/5453650429214720/image/download/6274297749307392)"
   ]
  },
  {
   "cell_type": "markdown",
   "metadata": {},
   "source": [
    "Rememeber to mantain the order of non-zero elements"
   ]
  },
  {
   "cell_type": "code",
   "execution_count": 101,
   "metadata": {},
   "outputs": [],
   "source": [
    "def move_zeros_to_left(A):\n",
    "    if len(A) < 1:\n",
    "        return\n",
    "    \n",
    "    #while moving to the start\n",
    "    length_A = len(A)\n",
    "    write_index = length_A - 1\n",
    "    read_index = length_A - 1\n",
    "    \n",
    "    while(read_index >= 0):\n",
    "        if A[read_index] != 0:\n",
    "            A[write_index] = A[read_index]\n",
    "            write_index -= 1\n",
    "        read_index -= 1\n",
    "        \n",
    "    while(write_index >= 0):\n",
    "        A[write_index] = 0\n",
    "        write_index -= 1\n",
    "        \n",
    "    return A"
   ]
  },
  {
   "cell_type": "code",
   "execution_count": 102,
   "metadata": {},
   "outputs": [
    {
     "name": "stdout",
     "output_type": "stream",
     "text": [
      "[0, 0, 0, 1, 10, 20, 59, 63, 88]\n"
     ]
    }
   ],
   "source": [
    "v = [1, 10, 20, 0, 59, 63, 0, 88, 0]\n",
    "print(move_zeros_to_left(v))"
   ]
  },
  {
   "cell_type": "markdown",
   "metadata": {},
   "source": [
    "__Delete Node with a Given Key__\n",
    "\n",
    "We are given the head of a linked list and a key. We have to delete the node that contains this given key. The following two examples elaborate on this problem further."
   ]
  },
  {
   "cell_type": "markdown",
   "metadata": {},
   "source": [
    "![](https://www.educative.io/cdn-cgi/image/f=auto,fit=contain,w=2400/api/page/6152473619202048/image/download/5872921915424768)"
   ]
  },
  {
   "cell_type": "code",
   "execution_count": null,
   "metadata": {},
   "outputs": [],
   "source": [
    "def delete_node(head, key):\n",
    "    prev = None\n",
    "    current = head\n",
    "    \n",
    "    while (current != None):\n",
    "        if current.data == key:\n",
    "            if current == head:\n",
    "                head = head.next\n",
    "                current = head\n",
    "            else:\n",
    "                prev.next = current.next\n",
    "                current = current.next\n",
    "        else:\n",
    "            prev = current\n",
    "            current = current.next\n",
    "    \n",
    "    if current == None:\n",
    "        return head\n",
    "    \n",
    "    return head"
   ]
  },
  {
   "cell_type": "markdown",
   "metadata": {},
   "source": [
    "__Check if two binary trees are identical__"
   ]
  },
  {
   "cell_type": "markdown",
   "metadata": {},
   "source": [
    "Given the roots of two binary trees, determine if these trees are identical or not. Identical trees have the same layout and data at each node. Consider the following two identical binary trees that have the same layout and data."
   ]
  },
  {
   "cell_type": "markdown",
   "metadata": {},
   "source": [
    "![](https://www.educative.io/cdn-cgi/image/f=auto,fit=contain,w=2400/api/page/4711189297758208/image/download/4922215939178496)"
   ]
  },
  {
   "cell_type": "markdown",
   "metadata": {},
   "source": [
    "It is not necessary that trees that have the same data are identical trees. Trees that have the exact same data may not be structurally identical. For example if you look at the two trees below, although they have the same data, they are not identical."
   ]
  },
  {
   "cell_type": "markdown",
   "metadata": {},
   "source": [
    "![](https://www.educative.io/cdn-cgi/image/f=auto,fit=contain,w=2400/api/page/4711189297758208/image/download/5839924017233920)"
   ]
  },
  {
   "cell_type": "markdown",
   "metadata": {},
   "source": [
    "Use depth first traversal, recursion"
   ]
  },
  {
   "cell_type": "code",
   "execution_count": 107,
   "metadata": {},
   "outputs": [],
   "source": [
    "def are_identical(root1, root2):\n",
    "    if root1 == None and root2 == None:\n",
    "        return True\n",
    "    \n",
    "    if root1 != None and root2 != None:\n",
    "        return (root1.data == root2.data and\n",
    "               are_identical(root1.left, root2.left) and\n",
    "               are_identical(root1.right, root2.right))\n",
    "    \n",
    "    return False"
   ]
  },
  {
   "cell_type": "code",
   "execution_count": 112,
   "metadata": {},
   "outputs": [
    {
     "ename": "NameError",
     "evalue": "name 'create_BST' is not defined",
     "output_type": "error",
     "traceback": [
      "\u001b[1;31m---------------------------------------------------------------------------\u001b[0m",
      "\u001b[1;31mNameError\u001b[0m                                 Traceback (most recent call last)",
      "\u001b[1;32m<ipython-input-112-4862b1b66f00>\u001b[0m in \u001b[0;36m<module>\u001b[1;34m\u001b[0m\n\u001b[0;32m      1\u001b[0m \u001b[0marr1\u001b[0m \u001b[1;33m=\u001b[0m \u001b[1;33m[\u001b[0m\u001b[1;36m100\u001b[0m\u001b[1;33m,\u001b[0m\u001b[1;36m50\u001b[0m\u001b[1;33m,\u001b[0m\u001b[1;36m200\u001b[0m\u001b[1;33m,\u001b[0m\u001b[1;36m25\u001b[0m\u001b[1;33m,\u001b[0m\u001b[1;36m125\u001b[0m\u001b[1;33m,\u001b[0m\u001b[1;36m350\u001b[0m\u001b[1;33m]\u001b[0m\u001b[1;33m\u001b[0m\u001b[1;33m\u001b[0m\u001b[0m\n\u001b[0;32m      2\u001b[0m \u001b[0marr2\u001b[0m \u001b[1;33m=\u001b[0m \u001b[1;33m[\u001b[0m\u001b[1;36m1\u001b[0m\u001b[1;33m,\u001b[0m\u001b[1;36m2\u001b[0m\u001b[1;33m,\u001b[0m\u001b[1;36m10\u001b[0m\u001b[1;33m,\u001b[0m\u001b[1;36m50\u001b[0m\u001b[1;33m,\u001b[0m\u001b[1;36m180\u001b[0m\u001b[1;33m,\u001b[0m\u001b[1;36m199\u001b[0m\u001b[1;33m]\u001b[0m\u001b[1;33m\u001b[0m\u001b[1;33m\u001b[0m\u001b[0m\n\u001b[1;32m----> 3\u001b[1;33m \u001b[0mroot1\u001b[0m \u001b[1;33m=\u001b[0m \u001b[0mcreate_BST\u001b[0m\u001b[1;33m(\u001b[0m\u001b[0marr1\u001b[0m\u001b[1;33m)\u001b[0m\u001b[1;33m\u001b[0m\u001b[1;33m\u001b[0m\u001b[0m\n\u001b[0m\u001b[0;32m      4\u001b[0m \u001b[0mdisplay_level_order\u001b[0m\u001b[1;33m(\u001b[0m\u001b[0mroot1\u001b[0m\u001b[1;33m)\u001b[0m\u001b[1;33m\u001b[0m\u001b[1;33m\u001b[0m\u001b[0m\n\u001b[0;32m      5\u001b[0m \u001b[0mroot2\u001b[0m \u001b[1;33m=\u001b[0m \u001b[0mcreate_BST\u001b[0m\u001b[1;33m(\u001b[0m\u001b[0marr2\u001b[0m\u001b[1;33m)\u001b[0m\u001b[1;33m\u001b[0m\u001b[1;33m\u001b[0m\u001b[0m\n",
      "\u001b[1;31mNameError\u001b[0m: name 'create_BST' is not defined"
     ]
    }
   ],
   "source": [
    "arr1 = [100,50,200,25,125,350]\n",
    "arr2 = [1,2,10,50,180,199]\n",
    "root1 = create_BST(arr1)\n",
    "display_level_order(root1)\n",
    "root2 = create_BST(arr2)"
   ]
  },
  {
   "cell_type": "code",
   "execution_count": null,
   "metadata": {},
   "outputs": [],
   "source": [
    "# A utility function to search a given key in BST\n",
    "def search(root,key):\n",
    "    \n",
    "    # Base Cases: root is null or key is present at root\n",
    "    if root is None or root.val == key:\n",
    "        return root\n",
    "\n",
    "    # Key is greater than root's key\n",
    "    if root.val < key:\n",
    "        return search(root.right,key)\n",
    "  \n",
    "    # Key is smaller than root's key\n",
    "    return search(root.left,key)"
   ]
  },
  {
   "cell_type": "code",
   "execution_count": 111,
   "metadata": {},
   "outputs": [
    {
     "ename": "NameError",
     "evalue": "name 'root1' is not defined",
     "output_type": "error",
     "traceback": [
      "\u001b[1;31m---------------------------------------------------------------------------\u001b[0m",
      "\u001b[1;31mNameError\u001b[0m                                 Traceback (most recent call last)",
      "\u001b[1;32m<ipython-input-111-82f8e88ccda2>\u001b[0m in \u001b[0;36m<module>\u001b[1;34m\u001b[0m\n\u001b[1;32m----> 1\u001b[1;33m \u001b[0mprint\u001b[0m\u001b[1;33m(\u001b[0m\u001b[0mare_identical\u001b[0m\u001b[1;33m(\u001b[0m\u001b[0mroot1\u001b[0m\u001b[1;33m,\u001b[0m \u001b[0mroot2\u001b[0m\u001b[1;33m)\u001b[0m\u001b[1;33m)\u001b[0m\u001b[1;33m\u001b[0m\u001b[1;33m\u001b[0m\u001b[0m\n\u001b[0m",
      "\u001b[1;31mNameError\u001b[0m: name 'root1' is not defined"
     ]
    }
   ],
   "source": [
    "print(are_identical(root1, root2))"
   ]
  },
  {
   "cell_type": "markdown",
   "metadata": {},
   "source": [
    "__String segmentation__"
   ]
  },
  {
   "cell_type": "markdown",
   "metadata": {},
   "source": [
    "You are given a dictionary of words and a large input string. You have to find out whether the input string can be completely segmented into the words of a given dictionary. The following two examples elaborate on the problem further. (recursion, memoization)"
   ]
  },
  {
   "cell_type": "markdown",
   "metadata": {},
   "source": [
    "![](https://www.educative.io/cdn-cgi/image/f=auto,fit=contain,w=2400/api/page/6723510190735360/image/download/5902751134384128)"
   ]
  },
  {
   "cell_type": "code",
   "execution_count": 120,
   "metadata": {},
   "outputs": [],
   "source": [
    "def can_segment_string(s, dictionary):\n",
    "    for i in range(1, len(s) + 1):\n",
    "        first = s[0:i]\n",
    "        if first in dictionary:\n",
    "            second = s[i:]\n",
    "            if not second or second in dictionary or can_segment_string(second, dictionary):\n",
    "                return True\n",
    "    return False"
   ]
  },
  {
   "cell_type": "code",
   "execution_count": 121,
   "metadata": {},
   "outputs": [],
   "source": [
    "s = \"hellonow\";\n",
    "dictionary= set([\"hello\",\"hell\",\"on\",\"now\"])"
   ]
  },
  {
   "cell_type": "code",
   "execution_count": 122,
   "metadata": {},
   "outputs": [
    {
     "data": {
      "text/plain": [
       "True"
      ]
     },
     "execution_count": 122,
     "metadata": {},
     "output_type": "execute_result"
    }
   ],
   "source": [
    "can_segment_string(s, dictionary)"
   ]
  },
  {
   "cell_type": "markdown",
   "metadata": {},
   "source": [
    "__Find all palindrome substring__\n",
    "\n",
    "Given a string find all non-single letter substrings that are palindromes. For instance:\n",
    "\n"
   ]
  },
  {
   "cell_type": "markdown",
   "metadata": {},
   "source": [
    "![](https://www.educative.io/cdn-cgi/image/f=auto,fit=contain,w=2400/api/page/5403356227960832/image/download/5540251364753408)"
   ]
  },
  {
   "cell_type": "code",
   "execution_count": 145,
   "metadata": {},
   "outputs": [],
   "source": [
    "def find_all_palindrome_substrings(input):\n",
    "    count = 0\n",
    "    for i in range(0, len(input)):\n",
    "        count += find_palindromes_in_sub_string(input, i - 1, i + 1)\n",
    "        count += find_palindromes_in_sub_string(input, i, i + 1)\n",
    "\n",
    "    return count"
   ]
  },
  {
   "cell_type": "code",
   "execution_count": null,
   "metadata": {},
   "outputs": [],
   "source": [
    "s = \"aabbbaa\";\n",
    "print(\"Total palindrome substrings: \", find_all_palindrome_substrings(s))"
   ]
  },
  {
   "cell_type": "markdown",
   "metadata": {},
   "source": [
    "__Largest sum subarray__\n",
    "\n",
    "In the array below, the largest sum subarray starts at index 3 and ends at 6, and with the largest sum being 12."
   ]
  },
  {
   "cell_type": "markdown",
   "metadata": {},
   "source": [
    "![](https://www.educative.io/cdn-cgi/image/f=auto,fit=contain,w=2400/api/page/6656729992396800/image/download/6555777826291712)"
   ]
  },
  {
   "cell_type": "code",
   "execution_count": 151,
   "metadata": {},
   "outputs": [],
   "source": [
    "def find_max_sum_subarray(A):\n",
    "    if len(A) < 1:\n",
    "        return 0\n",
    "    curr_max = A[0]\n",
    "    global_max = A[0]\n",
    "    length_A = len(A)\n",
    "    for i in range(1, length_A):\n",
    "        if curr_max < 0:\n",
    "            curr_max = A[i]\n",
    "        else:\n",
    "            curr_max += A[i]\n",
    "        if global_max < curr_max:\n",
    "            global_max = curr_max\n",
    "        \n",
    "    return global_max"
   ]
  },
  {
   "cell_type": "code",
   "execution_count": 152,
   "metadata": {},
   "outputs": [
    {
     "data": {
      "text/plain": [
       "12"
      ]
     },
     "execution_count": 152,
     "metadata": {},
     "output_type": "execute_result"
    }
   ],
   "source": [
    "v = [-4, 2, -5, 1, 2, 3, 6, -5, 1]\n",
    "find_max_sum_subarray(v)"
   ]
  },
  {
   "cell_type": "markdown",
   "metadata": {},
   "source": [
    "__Copy linked list with arbitrary pointer__\n",
    "\n",
    "You are given a linked list where the node has two pointers. The first is the regular next pointer. The second pointer is called arbitrary_pointer and it can point to any node in the linked list. Your job is to write code to make a deep copy of the given linked list. Here, deep copy means that any operations on the original list (inserting, modifying and removing) should not affect the copied list.\n",
    "\n",
    "Here’s an example of a linked list with arbitrary pointers connected. (Use hash)\n"
   ]
  },
  {
   "cell_type": "markdown",
   "metadata": {},
   "source": [
    "![](https://www.educative.io/cdn-cgi/image/f=auto,fit=contain,w=2400/api/page/6164034463203328/image/download/5004105329147904)"
   ]
  },
  {
   "cell_type": "markdown",
   "metadata": {},
   "source": [
    "na muy dificil"
   ]
  },
  {
   "cell_type": "code",
   "execution_count": null,
   "metadata": {},
   "outputs": [],
   "source": []
  }
 ],
 "metadata": {
  "kernelspec": {
   "display_name": "Python 3",
   "language": "python",
   "name": "python3"
  },
  "language_info": {
   "codemirror_mode": {
    "name": "ipython",
    "version": 3
   },
   "file_extension": ".py",
   "mimetype": "text/x-python",
   "name": "python",
   "nbconvert_exporter": "python",
   "pygments_lexer": "ipython3",
   "version": "3.8.3"
  },
  "toc": {
   "base_numbering": 1,
   "nav_menu": {},
   "number_sections": true,
   "sideBar": true,
   "skip_h1_title": false,
   "title_cell": "Table of Contents",
   "title_sidebar": "Contents",
   "toc_cell": false,
   "toc_position": {},
   "toc_section_display": true,
   "toc_window_display": false
  }
 },
 "nbformat": 4,
 "nbformat_minor": 4
}
